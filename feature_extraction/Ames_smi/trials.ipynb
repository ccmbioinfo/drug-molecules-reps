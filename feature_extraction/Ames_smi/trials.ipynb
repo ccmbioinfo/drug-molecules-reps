{
 "cells": [
  {
   "cell_type": "code",
   "execution_count": 3,
   "metadata": {},
   "outputs": [],
   "source": [
    "import pandas as pd\n",
    "import numpy as np\n",
    "import umap\n",
    "from sklearn.preprocessing import StandardScaler\n",
    "import matplotlib.pyplot as plt\n",
    "import torch\n",
    "from torch.nn.functional import pad\n"
   ]
  },
  {
   "cell_type": "code",
   "execution_count": 4,
   "metadata": {},
   "outputs": [
    {
     "name": "stdout",
     "output_type": "stream",
     "text": [
      "Len: 6512\n"
     ]
    },
    {
     "data": {
      "text/plain": [
       "array([   1,    2,    3, ..., 6510, 6511, 6512])"
      ]
     },
     "execution_count": 4,
     "metadata": {},
     "output_type": "execute_result"
    }
   ],
   "source": [
    "input_path = \"/hpf/largeprojects/ccmbio/monikas/chem/feature_extraction/Ames_smi/Ames.csv\"\n",
    "\n",
    "def get_data():\n",
    "    df = pd.read_csv(input_path)\n",
    "    print(f\"Len: {len(df)}\")\n",
    "    return df\n",
    "\n",
    "df = get_data()\n",
    "labels = np.arange(1, len(df)+1)\n",
    "labels"
   ]
  },
  {
   "cell_type": "markdown",
   "metadata": {},
   "source": [
    "# UMAP"
   ]
  },
  {
   "cell_type": "code",
   "execution_count": 5,
   "metadata": {},
   "outputs": [
    {
     "name": "stdout",
     "output_type": "stream",
     "text": [
      "Flat: tensor([[-1.0401,  1.0749, -1.6281, -0.1463,  0.3093, -1.6761],\n",
      "        [-0.5649, -0.1515, -1.6004,  0.7598, -0.3099, -0.0991],\n",
      "        [ 0.5525, -0.6557, -0.9549, -0.0275, -0.5118,  0.6737],\n",
      "        [ 0.7491, -0.1775, -1.5635,  0.5228,  0.8556,  0.2613],\n",
      "        [-0.4513,  0.2729,  1.8940,  0.2479,  0.6269,  0.5158],\n",
      "        [ 1.2823,  1.7268,  0.4367,  0.0474,  1.2429,  0.1918],\n",
      "        [ 0.1282,  0.8251, -0.9512, -0.6471,  1.5969, -1.7862],\n",
      "        [-0.0794,  0.8660,  0.0463, -1.9675,  0.7859,  1.0566],\n",
      "        [-1.2420,  0.0127, -0.4047, -0.3334, -0.5522,  1.1341],\n",
      "        [-0.0370,  0.6308,  1.3984, -2.1438,  2.1193, -0.2340]])\n",
      "Labels: [0 1 2 3 4 5 6 7 8 9]\n"
     ]
    },
    {
     "name": "stderr",
     "output_type": "stream",
     "text": [
      "/hpf/largeprojects/ccmbio/monikas/environments/conda_envs/vscode-env/lib/python3.12/site-packages/umap/umap_.py:2433: UserWarning: n_neighbors is larger than the dataset size; truncating to X.shape[0] - 1\n",
      "  warn(\n"
     ]
    },
    {
     "name": "stdout",
     "output_type": "stream",
     "text": [
      "Embeddings: [[-10.280599    8.969608 ]\n",
      " [-11.324689    8.9633   ]\n",
      " [-11.686153    8.177332 ]\n",
      " [-10.845416    8.30971  ]\n",
      " [-10.780215    6.960305 ]\n",
      " [-10.007191    7.433285 ]\n",
      " [ -9.748357    8.352949 ]\n",
      " [-10.077088    6.65396  ]\n",
      " [-11.596234    7.46824  ]\n",
      " [ -9.321243    7.1547246]]\n"
     ]
    },
    {
     "data": {
      "image/png": "[encoded data removed]",
      "text/plain": [
       "<Figure size 640x480 with 1 Axes>"
      ]
     },
     "metadata": {},
     "output_type": "display_data"
    }
   ],
   "source": [
    "num_labels = 10\n",
    "num_samples_per_label = 1\n",
    "tensors = [torch.randn(1, 3, 2) for _ in range(num_labels)]  \n",
    "# tensor2 = [torch.randn(1, 4, 2) for _ in range(5)]\n",
    "\n",
    "# print(f\"Tensors: {tensors}\")\n",
    "\n",
    "# tensors = tensor1 + tensor2\n",
    "# Flatten the tensors and concatenate them into a single tensor\n",
    "#flattening each tensor in the list\n",
    "flattened_tensors = [t.view(t.size(0), -1) for t in tensors] #yields a list of 2D tensors\n",
    "flat_data = torch.cat(flattened_tensors, dim=0)\n",
    "\n",
    "print(f\"Flat: {flat_data}\")\n",
    "\n",
    "# Convert the tensors to numpy arrays\n",
    "data = flat_data.numpy()\n",
    "\n",
    "labels = np.repeat(np.arange(num_labels), num_samples_per_label)\n",
    "print(f\"Labels: {labels}\")\n",
    "labels = labels.astype(int)\n",
    "\n",
    "\n",
    "# Normalize the data\n",
    "# scaler = StandardScaler()\n",
    "# X = scaler.fit_transform(data)\n",
    "\n",
    "# Apply UMAP for dimensionality reduction\n",
    "reducer = umap.UMAP()\n",
    "embedding = reducer.fit_transform(data)\n",
    "print(f\"Embeddings: {embedding}\")\n",
    "\n",
    "# Plot the embedded data points\n",
    "plt.scatter(embedding[:, 0], embedding[:, 1], c=labels)\n",
    "plt.title('UMAP Visualization of Tensors')\n",
    "plt.xlabel('UMAP Dimension 1')\n",
    "plt.ylabel('UMAP Dimension 2')\n",
    "plt.show()"
   ]
  },
  {
   "cell_type": "markdown",
   "metadata": {},
   "source": [
    "## Flattening"
   ]
  },
  {
   "cell_type": "code",
   "execution_count": 7,
   "metadata": {},
   "outputs": [
    {
     "name": "stdout",
     "output_type": "stream",
     "text": [
      "Flattened: [tensor([[ 0.5362,  1.2735, -0.0897,  0.1724, -0.7938, -1.1678,  1.5047, -0.1680,\n",
      "         -0.2165,  1.8059]]), tensor([[-1.3088, -0.3415, -1.6617, -0.1775,  0.2283, -1.0073, -0.5808, -0.5164,\n",
      "         -1.7739, -0.5481, -0.5320,  1.5658, -0.0919,  0.2852, -0.0310]]), tensor([[ 0.1184,  0.2321, -0.6644,  0.0398, -0.2923,  0.5169,  1.2213, -1.4933,\n",
      "         -1.6028,  1.5826,  0.3399,  0.0625, -0.1632,  1.4317,  1.1531,  0.4555,\n",
      "          0.6025,  0.2695,  0.6858,  0.1672]]), tensor([[-0.2763, -0.2090,  0.9086,  1.1080,  0.1637, -1.0382, -0.3440,  1.1359,\n",
      "         -0.6983, -1.3125]]), tensor([[-0.7812, -1.2600,  0.5212, -0.9748,  1.0137,  0.6195,  1.8026, -0.3744,\n",
      "          0.2830, -0.3779,  0.9668, -1.6546, -1.1852,  1.3504,  0.3275]]), tensor([[-0.8490,  0.0729,  1.4349, -0.1052,  0.9705,  1.1681, -1.0945,  0.1145,\n",
      "          1.9018,  0.3854,  1.0645,  1.0578,  0.0323, -0.2096,  0.8076,  0.2757,\n",
      "          1.0146,  0.3995,  1.1581, -0.7853]])]\n",
      "Concatenated: tensor([[ 0.5362,  1.2735, -0.0897,  0.1724, -0.7938, -1.1678,  1.5047, -0.1680,\n",
      "         -0.2165,  1.8059,  0.0000,  0.0000,  0.0000,  0.0000,  0.0000,  0.0000,\n",
      "          0.0000,  0.0000,  0.0000,  0.0000],\n",
      "        [-1.3088, -0.3415, -1.6617, -0.1775,  0.2283, -1.0073, -0.5808, -0.5164,\n",
      "         -1.7739, -0.5481, -0.5320,  1.5658, -0.0919,  0.2852, -0.0310,  0.0000,\n",
      "          0.0000,  0.0000,  0.0000,  0.0000],\n",
      "        [ 0.1184,  0.2321, -0.6644,  0.0398, -0.2923,  0.5169,  1.2213, -1.4933,\n",
      "         -1.6028,  1.5826,  0.3399,  0.0625, -0.1632,  1.4317,  1.1531,  0.4555,\n",
      "          0.6025,  0.2695,  0.6858,  0.1672],\n",
      "        [-0.2763, -0.2090,  0.9086,  1.1080,  0.1637, -1.0382, -0.3440,  1.1359,\n",
      "         -0.6983, -1.3125,  0.0000,  0.0000,  0.0000,  0.0000,  0.0000,  0.0000,\n",
      "          0.0000,  0.0000,  0.0000,  0.0000],\n",
      "        [-0.7812, -1.2600,  0.5212, -0.9748,  1.0137,  0.6195,  1.8026, -0.3744,\n",
      "          0.2830, -0.3779,  0.9668, -1.6546, -1.1852,  1.3504,  0.3275,  0.0000,\n",
      "          0.0000,  0.0000,  0.0000,  0.0000],\n",
      "        [-0.8490,  0.0729,  1.4349, -0.1052,  0.9705,  1.1681, -1.0945,  0.1145,\n",
      "          1.9018,  0.3854,  1.0645,  1.0578,  0.0323, -0.2096,  0.8076,  0.2757,\n",
      "          1.0146,  0.3995,  1.1581, -0.7853]])\n",
      "Numpy data: [[ 0.5361537   1.2735146  -0.08967459  0.17243071 -0.7937579  -1.1677502\n",
      "   1.5047218  -0.16800083 -0.2164514   1.8058745   0.          0.\n",
      "   0.          0.          0.          0.          0.          0.\n",
      "   0.          0.        ]\n",
      " [-1.3088164  -0.34145346 -1.6616505  -0.17753011  0.22834824 -1.0073453\n",
      "  -0.5807873  -0.5164026  -1.7739     -0.54808676 -0.53199834  1.5658419\n",
      "  -0.09191415  0.28520003 -0.03096653  0.          0.          0.\n",
      "   0.          0.        ]\n",
      " [ 0.11837964  0.23211639 -0.6644195   0.03983975 -0.29232365  0.5169301\n",
      "   1.2212698  -1.4933223  -1.6028479   1.5825521   0.3398741   0.06252471\n",
      "  -0.16316345  1.4316986   1.1530911   0.4554578   0.60249656  0.2694653\n",
      "   0.68575317  0.16723536]\n",
      " [-0.27629825 -0.20904298  0.9086256   1.1079963   0.16368411 -1.0382237\n",
      "  -0.34395579  1.1359358  -0.6983045  -1.3125226   0.          0.\n",
      "   0.          0.          0.          0.          0.          0.\n",
      "   0.          0.        ]\n",
      " [-0.7811572  -1.2599804   0.52120256 -0.9747547   1.0137484   0.619527\n",
      "   1.8025562  -0.37440112  0.28302366 -0.37788853  0.96675843 -1.6546063\n",
      "  -1.1851959   1.3503556   0.32745337  0.          0.          0.\n",
      "   0.          0.        ]\n",
      " [-0.84900594  0.07285572  1.4349461  -0.1051667   0.9704589   1.1680659\n",
      "  -1.0945485   0.1145154   1.9018272   0.3853857   1.0645044   1.0577614\n",
      "   0.03229371 -0.2095646   0.8075776   0.27567914  1.0145717   0.3995181\n",
      "   1.1580976  -0.78534216]]\n",
      "Labels: [0 1 2 3 4 5]\n",
      "Embeddings: [[ -2.2764623  15.54458  ]\n",
      " [ -3.9991658 -10.684624 ]\n",
      " [ -2.6285036  15.997323 ]\n",
      " [ -4.4146442 -10.266244 ]\n",
      " [ -3.230378   15.533017 ]\n",
      " [ -4.8849983  -9.796546 ]]\n"
     ]
    },
    {
     "data": {
      "image/png": "[encoded data removed]",
      "text/plain": [
       "<Figure size 640x480 with 1 Axes>"
      ]
     },
     "metadata": {},
     "output_type": "display_data"
    }
   ],
   "source": [
    "arr1 = torch.randn(1, 2, 5)\n",
    "arr2 = torch.randn(1, 3, 5)\n",
    "arr3 = torch.randn(1, 4, 5)\n",
    "arr4 = torch.randn(1, 2, 5)\n",
    "arr5 = torch.randn(1, 3, 5)\n",
    "arr6 = torch.randn(1, 4, 5)\n",
    "\n",
    "\n",
    "tensors = [arr1, arr2, arr3, arr4, arr5, arr6]\n",
    "\n",
    "# print(f\"Arr: {arr}\")\n",
    "\n",
    "flattened = [item.view(item.size(0), -1) for item in tensors]\n",
    "print(f\"Flattened: {flattened}\")\n",
    "# print(\"Tensors \\n\", tensors, \"\\n\", tensors[0].ndim, tensors[1].shape)\n",
    "\n",
    "# Determine the maximum number of features\n",
    "max_features = max(tensor.size(1) for tensor in flattened)\n",
    "# Pad tensors to have the same number of features\n",
    "padded_tensors = [pad(tensor, (0, max_features - tensor.size(1))) for tensor in flattened]\n",
    "\n",
    "#Concatenate\n",
    "concat = torch.cat(padded_tensors, dim = 0)\n",
    "print(f\"Concatenated: {concat}\")\n",
    "\n",
    "\n",
    "data = concat.numpy()\n",
    "print(f\"Numpy data: {data}\")\n",
    "\n",
    "# labels = np.concatenate([\n",
    "#     np.full(tensor.size(0), i) for i, tensor in enumerate(flattened)\n",
    "# ])\n",
    "labels = np.repeat(np.arange(6), 1)\n",
    "print(f\"Labels: {labels}\")\n",
    "labels = labels.astype(int)\n",
    "\n",
    "# Apply UMAP for dimensionality reduction\n",
    "# reducer = umap.UMAP(n_neighbors=2, n_components=2, metric='euclidean', densmap=True, low_memory=False)\n",
    "reducer = umap.UMAP(n_neighbors=2, n_components=2, metric='euclidean')\n",
    "embedding = reducer.fit_transform(data)\n",
    "print(f\"Embeddings: {embedding}\")\n",
    "\n",
    "# Plot the embedded data points\n",
    "plt.scatter(embedding[:, 0], embedding[:, 1], c=labels)\n",
    "plt.title('UMAP Visualization of Tensors')\n",
    "plt.xlabel('UMAP Dimension 1')\n",
    "plt.ylabel('UMAP Dimension 2')\n",
    "plt.show()"
   ]
  },
  {
   "cell_type": "markdown",
   "metadata": {},
   "source": [
    "## Panda Series on scatter plot"
   ]
  },
  {
   "cell_type": "code",
   "execution_count": null,
   "metadata": {},
   "outputs": [],
   "source": []
  }
 ],
 "metadata": {
  "kernelspec": {
   "display_name": "vscode-env",
   "language": "python",
   "name": "python3"
  },
  "language_info": {
   "codemirror_mode": {
    "name": "ipython",
    "version": 3
   },
   "file_extension": ".py",
   "mimetype": "text/x-python",
   "name": "python",
   "nbconvert_exporter": "python",
   "pygments_lexer": "ipython3",
   "version": "3.12.3"
  }
 },
 "nbformat": 4,
 "nbformat_minor": 2
}
