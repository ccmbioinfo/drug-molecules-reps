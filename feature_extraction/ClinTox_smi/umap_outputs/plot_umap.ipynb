{
 "cells": [
  {
   "cell_type": "code",
   "execution_count": null,
   "metadata": {},
   "outputs": [],
   "source": [
    "import pandas as pd\n",
    "# import umap\n",
    "# import umap.plot\n",
    "import numpy as np\n",
    "import matplotlib.pyplot as plt"
   ]
  },
  {
   "cell_type": "code",
   "execution_count": null,
   "metadata": {},
   "outputs": [],
   "source": [
    "input_path = \"/hpf/largeprojects/ccmbio/monikas/chem/feature_extraction/ClinTox_smi/umap_outputs/\"\n",
    "\n",
    "model1 = \"msb-roshan/molgpt\"\n",
    "model4 = \"DeepChem/ChemBERTa-77M-MTR\"\n",
    "model5 = \"ncfrey/ChemGPT-1.2B\""
   ]
  },
  {
   "cell_type": "markdown",
   "metadata": {},
   "source": [
    "### Model 1: MolGPT"
   ]
  },
  {
   "cell_type": "code",
   "execution_count": null,
   "metadata": {},
   "outputs": [],
   "source": [
    "model = model1\n",
    "\n",
    "def read_csv():\n",
    "    name = model.split('/')[1]\n",
    "    filename = input_path + \"embeddings_\" + name + \".csv\"\n",
    "    # print(f\"Filename: {filename}\")\n",
    "    df = pd.read_csv(filename)\n",
    "    return df\n",
    "\n",
    "def plot():\n",
    "    embedding = read_csv()\n",
    "    # Plot the embedded data points\n",
    "    # colors = ['red' if val == 0 else 'green' for val in embedding.Labels]\n",
    "    _, ax = plt.subplots()\n",
    "    scatter = ax.scatter(embedding.Dim1, embedding.Dim2, c=embedding.Labels, s=5, alpha=0.5)\n",
    "    legend1 = ax.legend(*scatter.legend_elements(), title=\"Clinical Toxicity Test\")\n",
    "    ax.add_artist(legend1)\n",
    "    ax.set_title('ClinTox: MolGPT')\n",
    "    ax.set_xlabel('Dimension 1')\n",
    "    ax.set_ylabel('Dimension 2')\n",
    "    plt.show()\n",
    "\n",
    "\n",
    "\n",
    "plot()\n",
    "\n"
   ]
  },
  {
   "cell_type": "markdown",
   "metadata": {},
   "source": [
    "### Model 4: ChemBERT"
   ]
  },
  {
   "cell_type": "code",
   "execution_count": null,
   "metadata": {},
   "outputs": [],
   "source": [
    "model = model4\n",
    "\n",
    "def read_csv():\n",
    "    name = model.split('/')[1]\n",
    "    filename = input_path + \"embeddings_\" + name + \".csv\"\n",
    "    print(f\"Filename: {filename}\")\n",
    "    df = pd.read_csv(filename)\n",
    "    return df\n",
    "\n",
    "def plot():\n",
    "    embedding = read_csv()\n",
    "    \n",
    "    # Plot the embedded data points\n",
    "    _, ax = plt.subplots()\n",
    "    scatter = ax.scatter(embedding.Dim1, embedding.Dim2, c=embedding.Labels, s=5, alpha=0.5)\n",
    "    legend1 = ax.legend(*scatter.legend_elements(), title=\"Clinical Toxicity\")\n",
    "    ax.add_artist(legend1)\n",
    "    ax.set_title('ClinTox: ChemBERT')\n",
    "    ax.set_xlabel('Dimension 1')\n",
    "    ax.set_ylabel('Dimension 2')\n",
    "    plt.show()\n",
    "\n",
    "\n",
    "plot()"
   ]
  },
  {
   "cell_type": "markdown",
   "metadata": {},
   "source": [
    "### Model 5: ChemGPT"
   ]
  },
  {
   "cell_type": "code",
   "execution_count": null,
   "metadata": {},
   "outputs": [],
   "source": [
    "model = model5\n",
    "\n",
    "def read_csv():\n",
    "    name = model.split('/')[1]\n",
    "    filename = input_path + \"embeddings_\" + name + \".csv\"\n",
    "    # print(f\"Filename: {filename}\")\n",
    "    df = pd.read_csv(filename)\n",
    "    return df\n",
    "\n",
    "def plot():\n",
    "    embedding = read_csv()\n",
    "    \n",
    "    # Plot the embedded data points\n",
    "    # plt.scatter(embedding.Dim1, embedding.Dim2, c=embedding.Labels, alpha=0.5)\n",
    "    # plt.title('BBBP_smi: ChemGPT')\n",
    "    # plt.xlabel('Dimension 1')\n",
    "    # plt.ylabel('Dimension 2')\n",
    "    # plt.show()\n",
    "    _, ax = plt.subplots()\n",
    "    scatter = ax.scatter(embedding.Dim1, embedding.Dim2, c=embedding.Labels, s=5, alpha=0.5)\n",
    "    legend1 = ax.legend(*scatter.legend_elements(), title=\"Clinical Toxicity Test\")\n",
    "    ax.add_artist(legend1)\n",
    "    ax.set_title('ClinTox: ChemGPT')\n",
    "    ax.set_xlabel('Dimension 1')\n",
    "    ax.set_ylabel('Dimension 2')\n",
    "    plt.show()\n",
    "\n",
    "\n",
    "plot()"
   ]
  }
 ],
 "metadata": {
  "kernelspec": {
   "display_name": "vscode-env",
   "language": "python",
   "name": "python3"
  },
  "language_info": {
   "codemirror_mode": {
    "name": "ipython",
    "version": 3
   },
   "file_extension": ".py",
   "mimetype": "text/x-python",
   "name": "python",
   "nbconvert_exporter": "python",
   "pygments_lexer": "ipython3",
   "version": "3.12.3"
  }
 },
 "nbformat": 4,
 "nbformat_minor": 2
}
